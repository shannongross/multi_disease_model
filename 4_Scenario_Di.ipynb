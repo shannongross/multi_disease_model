{
 "cells": [
  {
   "cell_type": "markdown",
   "metadata": {},
   "source": [
    "# Step 4: Scenario Discovery\n",
    "#### MORDM - Evaluating Multi-Disease Interventions - MSc Engineering and Policy Analysis\n",
    "\n",
    "Shannon M. Gross"
   ]
  },
  {
   "cell_type": "code",
   "execution_count": 1,
   "metadata": {},
   "outputs": [
    {
     "name": "stderr",
     "output_type": "stream",
     "text": [
      "C:\\Users\\shannonsgross\\Anaconda3\\envs\\thesis\\lib\\site-packages\\ema_workbench\\connectors\\__init__.py:27: ImportWarning: netlogo connector not available\n",
      "  warnings.warn(\"netlogo connector not available\", ImportWarning)\n",
      "C:\\Users\\shannonsgross\\Anaconda3\\envs\\thesis\\lib\\site-packages\\sklearn\\externals\\six.py:31: DeprecationWarning: The module is deprecated in version 0.21 and will be removed in version 0.23 since we've dropped support for Python 2.7. Please rely on the official version of six (https://pypi.org/project/six/).\n",
      "  \"(https://pypi.org/project/six/).\", DeprecationWarning)\n"
     ]
    }
   ],
   "source": [
    "# standard packages\n",
    "import numpy as np\n",
    "import scipy as sp\n",
    "import pandas as pd\n",
    "import matplotlib.pyplot as plt\n",
    "import time, copy\n",
    "import seaborn as sns\n",
    "# import plotly.express as px\n",
    "pd.set_option('display.max_columns', 100)\n",
    "\n",
    "# EMA imports\n",
    "from ema_workbench.connectors.vensim import VensimModel\n",
    "from ema_workbench.em_framework.optimization import (HyperVolume, EpsilonProgress) \n",
    "from ema_workbench import (SequentialEvaluator, MultiprocessingEvaluator, Policy, Scenario, Constraint, CategoricalParameter,\n",
    "                           TimeSeriesOutcome, ScalarOutcome, IntegerParameter, RealParameter, save_results, load_results, Model)\n",
    "from ema_workbench.em_framework.evaluators import perform_experiments\n",
    "from ema_workbench.em_framework.parameters import create_parameters\n",
    "from ema_workbench.em_framework.samplers import sample_uncertainties\n",
    "from ema_workbench.analysis import pairs_plotting, plotting, plotting_util, feature_scoring, parcoords, prim, dimensional_stacking\n",
    "from ema_workbench.analysis.plotting import lines, Density\n",
    "from ema_workbench.util import ema_logging\n",
    "ema_logging.log_to_stderr(ema_logging.INFO)\n",
    "\n",
    "# problem-specific imports\n",
    "from disease_model_problems import get_model_for_problem_formulation "
   ]
  },
  {
   "cell_type": "markdown",
   "metadata": {},
   "source": [
    "### Retrieve robust results"
   ]
  },
  {
   "cell_type": "code",
   "execution_count": 2,
   "metadata": {
    "scrolled": false
   },
   "outputs": [
    {
     "name": "stdout",
     "output_type": "stream",
     "text": [
      "regret from Problem Formulation 1 \n"
     ]
    },
    {
     "name": "stderr",
     "output_type": "stream",
     "text": [
      "[MainProcess/INFO] results loaded succesfully from C:\\Users\\shannonsgross\\Documents\\thesis\\disease_model\\results\\RobustCandidates\\PF1.tar.gz\n"
     ]
    }
   ],
   "source": [
    "# %matplotlib notebook\n",
    "for PF in range(4,5):\n",
    "    print('regret from Problem Formulation {} '.format(PF) )\n",
    "    file_name = r'.\\results\\robust_candidates\\regret\\PF{}'.format(PF) + '.tar.gz'\n",
    "    pareto_results = load_results(file_name)\n",
    "    experiments, outcomes = pareto_results\n",
    "    disease_model = get_model_for_problem_formulation(PF)   \n",
    "#     #test w small subset -avoid memory error\n",
    "#     df_out = pd.DataFrame(outcomes).head(3800)\n",
    "#     df_out.fillna(0,inplace=True)  \n",
    "#     df_exp = pd.read_csv(file_name, compression='gzip', sep=',', nrows=3800)\n",
    "#     df_exp.fillna(0,inplace=True)\n",
    "#     small_exp = df_exp.drop(labels=[l.name for l in disease_model.levers], axis=1)\n",
    "#     small_exp2 = small_exp.drop([ 'policy','Unnamed: 0','experiments.csv'], axis=1)        \n",
    "\n",
    "    cleaned_exp = experiments.drop(labels=[l.name for l in disease_model.levers], axis=1)\n",
    "    cleaned_exp2 = cleaned_exp.drop([ 'policy','Unnamed: 0'], axis=1)"
   ]
  },
  {
   "cell_type": "code",
   "execution_count": null,
   "metadata": {},
   "outputs": [],
   "source": []
  },
  {
   "cell_type": "markdown",
   "metadata": {},
   "source": [
    "#### Where do policies fail concerning Mortality objective?"
   ]
  },
  {
   "cell_type": "code",
   "execution_count": null,
   "metadata": {},
   "outputs": [],
   "source": [
    "ooi = 'Mortality'\n",
    "\n",
    "x = cleaned_exp2 #independent variable experiments\n",
    "y = outcomes[ooi] > np.percentile(outcomes[ooi], 10) \n",
    "    #focus on 10 percent of the worst outcomes for this objective \n",
    "prim_alg = prim.Prim(x, y, threshold=0.8)\n",
    "box_mort = prim_alg.find_box()\n",
    "\n",
    "box_mort.show_tradeoff()\n",
    "plt.title(\"Peeling Trajectory for *{}* under PF {}\".format(ooi,PF))\n",
    "plt.figure(figsize=(4,4)) \n",
    "plt.show()"
   ]
  },
  {
   "cell_type": "code",
   "execution_count": null,
   "metadata": {},
   "outputs": [],
   "source": [
    "boi=2\n",
    "box_mort.inspect(boi, style='graph')\n",
    "print(prim_alg.stats_to_dataframe())\n",
    "# box1.show_ppt()"
   ]
  },
  {
   "cell_type": "code",
   "execution_count": null,
   "metadata": {},
   "outputs": [],
   "source": [
    "box_mort.show_pairs_scatter(boi)"
   ]
  },
  {
   "cell_type": "code",
   "execution_count": null,
   "metadata": {},
   "outputs": [],
   "source": [
    "# based on the peeling trajectory, we pick entry number 44\n",
    "box_mort.select(boi)\n",
    "# show the resulting box\n",
    "prim_alg.show_boxes(boi)\n",
    "prim_alg.boxes_to_dataframe()"
   ]
  },
  {
   "cell_type": "markdown",
   "metadata": {},
   "source": [
    "#### Where do policies fail to meet Morbidity objective?"
   ]
  },
  {
   "cell_type": "code",
   "execution_count": null,
   "metadata": {},
   "outputs": [],
   "source": [
    "ooi = 'Morbidity'\n",
    "\n",
    "data = outcomes[ooi]    \n",
    "y = data > np.percentile(data, 10) \n",
    "    #focus on 10 percent of the worst outcomes for this objective   \n",
    "prim_alg = prim.Prim(cleaned_exp2, y, threshold=0.8)\n",
    "box_morb = prim_alg.find_box()  \n",
    "\n",
    "box_morb.show_tradeoff()\n",
    "plt.title(\"Peeling Trajectory for *{}* under PF {}\".format(ooi,PF))\n",
    "plt.figure(figsize=(4,4)) \n",
    "plt.show()"
   ]
  },
  {
   "cell_type": "code",
   "execution_count": null,
   "metadata": {},
   "outputs": [],
   "source": [
    "boi=3\n",
    "\n",
    "box_morb.inspect(boi, style='graph')\n",
    "print(prim_alg.stats_to_dataframe())"
   ]
  },
  {
   "cell_type": "code",
   "execution_count": null,
   "metadata": {},
   "outputs": [],
   "source": [
    "box_morb.show_pairs_scatter(boi)"
   ]
  },
  {
   "cell_type": "code",
   "execution_count": null,
   "metadata": {},
   "outputs": [],
   "source": []
  },
  {
   "cell_type": "markdown",
   "metadata": {},
   "source": [
    "#### Where do policies fail concerning Timeliness (prevalence reduction) objective?"
   ]
  },
  {
   "cell_type": "code",
   "execution_count": null,
   "metadata": {},
   "outputs": [],
   "source": [
    "ooi = 'Timeliness'\n",
    "\n",
    "data = outcomes[ooi]    \n",
    "y = data > np.percentile(data, 10) \n",
    "    #focus on 10 percent of the worst outcomes for this objective   \n",
    "prim_alg = prim.Prim(cleaned_exp2, y, threshold=0.8)\n",
    "box_prev = prim_alg.find_box()  \n",
    "\n",
    "box_prev.show_tradeoff()\n",
    "plt.title(\"Peeling Trajectory for *{}* under PF {}\".format(ooi,PF))\n",
    "plt.figure(figsize=(4,4)) \n",
    "plt.show()"
   ]
  },
  {
   "cell_type": "code",
   "execution_count": null,
   "metadata": {},
   "outputs": [],
   "source": [
    "boi=3\n",
    "\n",
    "box_prev.inspect(boi, style='graph')\n",
    "print(prim_alg.stats_to_dataframe())"
   ]
  },
  {
   "cell_type": "code",
   "execution_count": null,
   "metadata": {},
   "outputs": [],
   "source": [
    "box_prev.show_pairs_scatter(boi)"
   ]
  },
  {
   "cell_type": "code",
   "execution_count": null,
   "metadata": {},
   "outputs": [],
   "source": []
  },
  {
   "cell_type": "code",
   "execution_count": null,
   "metadata": {},
   "outputs": [],
   "source": []
  },
  {
   "cell_type": "code",
   "execution_count": null,
   "metadata": {},
   "outputs": [],
   "source": []
  },
  {
   "cell_type": "code",
   "execution_count": null,
   "metadata": {},
   "outputs": [],
   "source": [
    "#try dim stacking\n",
    "\n",
    "from ema_workbench.analysis import dimensional_stacking\n",
    "data = outcomes['Timeliness'] \n",
    "y = data > np.percentile(data, 90)\n",
    "\n",
    "dimensional_stacking.create_pivot_plot(cleaned_exp2, y)\n",
    "plt.show()"
   ]
  },
  {
   "cell_type": "code",
   "execution_count": null,
   "metadata": {},
   "outputs": [],
   "source": []
  },
  {
   "cell_type": "code",
   "execution_count": null,
   "metadata": {},
   "outputs": [],
   "source": []
  }
 ],
 "metadata": {
  "kernelspec": {
   "display_name": "Python 3",
   "language": "python",
   "name": "python3"
  },
  "language_info": {
   "codemirror_mode": {
    "name": "ipython",
    "version": 3
   },
   "file_extension": ".py",
   "mimetype": "text/x-python",
   "name": "python",
   "nbconvert_exporter": "python",
   "pygments_lexer": "ipython3",
   "version": "3.7.3"
  }
 },
 "nbformat": 4,
 "nbformat_minor": 2
}
